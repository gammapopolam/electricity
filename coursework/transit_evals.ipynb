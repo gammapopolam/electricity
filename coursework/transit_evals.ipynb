{
 "cells": [
  {
   "cell_type": "code",
   "execution_count": 17,
   "metadata": {},
   "outputs": [
    {
     "data": {
      "text/plain": [
       "12"
      ]
     },
     "execution_count": 17,
     "metadata": {},
     "output_type": "execute_result"
    }
   ],
   "source": [
    "import pandas as pd\n",
    "\n",
    "with open('logs_hillc_yus.txt', 'r') as f:\n",
    "    data=[x[:-1].split(': ') for x in f.readlines()]\n",
    "stop_ids=[stop_id[1].split(' ')[0] for stop_id in data]\n",
    "num_routes=[num_route[2].split(' ')[0] for num_route in data]\n",
    "tile_gens=[tile_gen[-1] for tile_gen in data]\n",
    "df1=pd.DataFrame(list(zip(stop_ids, num_routes, tile_gens)), columns=['stop_id', 'num_routes', 'tile_gens'])\n",
    "df1['tile_gens']=df1['tile_gens'].astype(int)\n",
    "df1['tile_gens'].sum()//60//60"
   ]
  },
  {
   "cell_type": "code",
   "execution_count": 21,
   "metadata": {},
   "outputs": [
    {
     "data": {
      "text/plain": [
       "77"
      ]
     },
     "execution_count": 21,
     "metadata": {},
     "output_type": "execute_result"
    }
   ],
   "source": [
    "with open('logs_hillc_k26.txt', 'r') as f:\n",
    "    data=[x[:-1].split(': ') for x in f.readlines()]\n",
    "stop_ids=[stop_id[1].split(' ')[0] for stop_id in data]\n",
    "num_routes=[num_route[2].split(' ')[0] for num_route in data]\n",
    "tile_gens=[tile_gen[-1] for tile_gen in data]\n",
    "df2=pd.DataFrame(list(zip(stop_ids, num_routes, tile_gens)), columns=['stop_id', 'num_routes', 'tile_gens'])\n",
    "df2['tile_gens']=df2['tile_gens'].astype(int)\n",
    "df2['tile_gens'].sum()//60"
   ]
  },
  {
   "cell_type": "code",
   "execution_count": 22,
   "metadata": {},
   "outputs": [
    {
     "name": "stdout",
     "output_type": "stream",
     "text": [
      "    stop_id num_routes  tile_gens\n",
      "0         0          3         40\n",
      "1         8          2         38\n",
      "2        16          2         33\n",
      "3        17          4         37\n",
      "4        18          1         31\n",
      "..      ...        ...        ...\n",
      "142     170          1         32\n",
      "143     171          1         30\n",
      "144     172          1         31\n",
      "145     173          1         30\n",
      "146     174          1         30\n",
      "\n",
      "[147 rows x 3 columns]\n"
     ]
    }
   ],
   "source": [
    "print(df2)"
   ]
  },
  {
   "cell_type": "code",
   "execution_count": null,
   "metadata": {},
   "outputs": [],
   "source": []
  }
 ],
 "metadata": {
  "kernelspec": {
   "display_name": "Python 3",
   "language": "python",
   "name": "python3"
  },
  "language_info": {
   "codemirror_mode": {
    "name": "ipython",
    "version": 3
   },
   "file_extension": ".py",
   "mimetype": "text/x-python",
   "name": "python",
   "nbconvert_exporter": "python",
   "pygments_lexer": "ipython3",
   "version": "3.12.1"
  }
 },
 "nbformat": 4,
 "nbformat_minor": 2
}
